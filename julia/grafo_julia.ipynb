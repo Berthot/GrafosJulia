{
 "cells": [
  {
   "cell_type": "code",
   "execution_count": 4,
   "metadata": {},
   "outputs": [],
   "source": [
    "mutable struct Vertice\n",
    "    nome::String\n",
    "end\n",
    "\n",
    "mutable struct Aresta\n",
    "    v1::Vertice\n",
    "    v2::Vertice\n",
    "    peso::Int64\n",
    "end\n",
    "\n",
    "function mostrar_aresta(self::Aresta)\n",
    "    println(self.v1)\n",
    "    println(self.v2)\n",
    "end\n",
    "\n",
    "mutable struct Grafo\n",
    "    vertices::Array{Vertice}\n",
    "    arestas::Array{Aresta}\n",
    "end"
   ]
  },
  {
   "cell_type": "code",
   "execution_count": 3,
   "metadata": {},
   "outputs": [
    {
     "data": {
      "text/plain": [
       "Grafo(Vertice[Vertice(\"1\"), Vertice(\"2\"), Vertice(\"3\"), Vertice(\"4\")], Aresta[Aresta(Vertice(\"1\"), Vertice(\"2\"), 1), Aresta(Vertice(\"2\"), Vertice(\"2\"), 1), Aresta(Vertice(\"2\"), Vertice(\"3\"), 1), Aresta(Vertice(\"1\"), Vertice(\"3\"), 1), Aresta(Vertice(\"3\"), Vertice(\"4\"), 1), Aresta(Vertice(\"4\"), Vertice(\"3\"), 1), Aresta(Vertice(\"1\"), Vertice(\"4\"), 1)])"
      ]
     },
     "execution_count": 3,
     "metadata": {},
     "output_type": "execute_result"
    }
   ],
   "source": [
    "v1 = Vertice(\"1\")\n",
    "v2 = Vertice(\"2\")\n",
    "v3 = Vertice(\"3\")\n",
    "v4 = Vertice(\"4\")\n",
    "\n",
    "\n",
    "a1 = Aresta(v1, v2, 1)\n",
    "a2 = Aresta(v2, v2, 1)\n",
    "a3 = Aresta(v2, v3, 1)\n",
    "a4 = Aresta(v1, v3, 1)\n",
    "a5 = Aresta(v3, v4, 1)\n",
    "a6 = Aresta(v4, v3, 1)\n",
    "a7 = Aresta(v1, v4, 1)\n",
    "\n",
    "arrayVertice = [v1, v2, v3, v4]\n",
    "\n",
    "arrayAresta = [a1, a2, a3, a4, a5, a6, a7]\n",
    "\n",
    "grafo = Grafo(arrayVertice, arrayAresta)"
   ]
  },
  {
   "cell_type": "code",
   "execution_count": null,
   "metadata": {},
   "outputs": [],
   "source": [
    "[x for x in 1:10 if x % 2 == 0] # list comprehencion"
   ]
  },
  {
   "cell_type": "markdown",
   "metadata": {},
   "source": [
    "![title](img.png)"
   ]
  },
  {
   "cell_type": "code",
   "execution_count": 3,
   "metadata": {},
   "outputs": [
    {
     "data": {
      "text/plain": [
       "3×2 Array{Int32,2}:\n",
       " 5  3\n",
       " 2  2\n",
       " 6  5"
      ]
     },
     "execution_count": 3,
     "metadata": {},
     "output_type": "execute_result"
    }
   ],
   "source": [
    "A = [2 4 3; 4 -1 2]\n",
    "B = [5 3; 2 2; 6 5]"
   ]
  },
  {
   "cell_type": "code",
   "execution_count": 4,
   "metadata": {},
   "outputs": [
    {
     "data": {
      "text/plain": [
       "3×2 Array{Int32,2}:\n",
       " 5  3\n",
       " 2  2\n",
       " 6  5"
      ]
     },
     "execution_count": 4,
     "metadata": {},
     "output_type": "execute_result"
    }
   ],
   "source": [
    "B = [5 3; 2 2; 6 5]"
   ]
  },
  {
   "cell_type": "code",
   "execution_count": 5,
   "metadata": {},
   "outputs": [
    {
     "data": {
      "text/plain": [
       "2×2 Array{Int32,2}:\n",
       " 36  29\n",
       " 30  20"
      ]
     },
     "execution_count": 5,
     "metadata": {},
     "output_type": "execute_result"
    }
   ],
   "source": [
    "C = A * B\n",
    "\n"
   ]
  },
  {
   "cell_type": "markdown",
   "metadata": {},
   "source": [
    "![title](matrix_exemplo.png)"
   ]
  },
  {
   "cell_type": "code",
   "execution_count": 1,
   "metadata": {},
   "outputs": [
    {
     "data": {
      "text/plain": [
       "2×2 Array{Int32,2}:\n",
       " 15  22\n",
       " 12  28"
      ]
     },
     "execution_count": 1,
     "metadata": {},
     "output_type": "execute_result"
    }
   ],
   "source": [
    "m1 = [1 4; 6 -2]\n",
    "\n",
    "m2 = [3 6; 3 4]\n",
    "\n",
    "m1 * m2"
   ]
  },
  {
   "cell_type": "code",
   "execution_count": null,
   "metadata": {},
   "outputs": [],
   "source": [
    "turma = [8 5 9 7; 10 1 4 7; 6 2 3 4; 10 10 10 10; 9 8 9 7]\n",
    "\n",
    "pesos = [0.2; 0.4 ;0.3; 0.1]\n",
    "\n",
    "turma * pesos\n"
   ]
  },
  {
   "cell_type": "code",
   "execution_count": 8,
   "metadata": {
    "collapsed": false,
    "jupyter": {
     "outputs_hidden": false
    },
    "pycharm": {
     "name": "#%%\n"
    }
   },
   "outputs": [
    {
     "data": {
      "text/plain": [
       "5×5 Array{Int32,2}:\n",
       " 1  0  0  1  0\n",
       " 0  1  0  0  0\n",
       " 0  0  1  0  0\n",
       " 0  0  0  0  0\n",
       " 0  1  1  0  0"
      ]
     },
     "execution_count": 8,
     "metadata": {},
     "output_type": "execute_result"
    }
   ],
   "source": [
    "m1 = [0 1 0 0 0; \n",
    "      0 0 1 0 0; \n",
    "      1 0 0 1 0; \n",
    "      0 0 0 0 0; \n",
    "      1 0 1 0 0]\n",
    "\n",
    "#  def exponencia(matriz, expoente):\n",
    "#     if expoente == 1:\n",
    "#         return matriz\n",
    "#     return multiplica(matriz, exponencia(matriz , expoente -1))\n",
    "\n",
    "# function expo_matrix(exp, matrix)\n",
    "#     if exp == 1\n",
    "#         return matrix\n",
    "#     end\n",
    "#     return matrix * expo_matrix(exp-1, matrix)\n",
    "# end\n",
    "\n",
    "# expo_matrix(3, m1)\n",
    "\n",
    "# ou\n",
    "# m1^3\n",
    "\n"
   ]
  },
  {
   "cell_type": "code",
   "execution_count": null,
   "metadata": {
    "collapsed": false,
    "jupyter": {
     "outputs_hidden": false
    },
    "pycharm": {
     "name": "#%%\n"
    }
   },
   "outputs": [],
   "source": [
    "m1^3"
   ]
  },
  {
   "cell_type": "code",
   "execution_count": null,
   "metadata": {},
   "outputs": [],
   "source": [
    "m1^3"
   ]
  },
  {
   "cell_type": "code",
   "execution_count": 13,
   "metadata": {},
   "outputs": [],
   "source": [
    "# 1. Para cada município\n",
    "#     - Nome\n",
    "#     - População\n",
    "#     - Superfície\n",
    "#     - Altitude média\n",
    "# 1. Para os municípios limítrofes\n",
    "#     - Distância entre as sedes.\n",
    "\n",
    "mutable struct Vertice\n",
    "    nome::String\n",
    "end\n",
    "\n",
    "mutable struct Cidade # Vertice\n",
    "    nome::String\n",
    "    population::String\n",
    "    surface::String\n",
    "    altitude::String\n",
    "end\n",
    "\n",
    "mutable struct Aresta\n",
    "    v1::Vertice\n",
    "    v2::Vertice\n",
    "    peso::Int64\n",
    "end\n",
    "\n",
    "\n",
    "mutable struct Grafo\n",
    "    vertices::Array{Vertice}\n",
    "    arestas::Array{Aresta}\n",
    "end\n"
   ]
  },
  {
   "cell_type": "code",
   "execution_count": null,
   "metadata": {},
   "outputs": [],
   "source": [
    "using LightGraphs\n",
    "using GraphPlot\n",
    "using Cairo\n",
    "using Plots\n",
    "using Compose\n",
    "\n",
    "using GraphRecipes, Plots\n",
    "g = [0 1 1;\n",
    "     0 0 1;\n",
    "     0 1 0]\n",
    "\n",
    "# h = graphplot(g, names=1:3, curvature_scalar=0.1)\n",
    "# draw(PNG(\"batata.png\", 16cm, 16cm), h)\n",
    "draw(PNG(\"karate.png\", 16cm, 16cm), graphplot(g, names=1:3, curvature_scalar=0.1))"
   ]
  },
  {
   "cell_type": "code",
   "execution_count": 2,
   "metadata": {},
   "outputs": [
    {
     "ename": "UndefVarError",
     "evalue": "UndefVarError: cm not defined",
     "output_type": "error",
     "traceback": [
      "UndefVarError: cm not defined",
      "",
      "Stacktrace:",
      " [1] top-level scope at In[2]:5"
     ]
    }
   ],
   "source": [
    "using GraphRecipes, Plots\n",
    "g = [0 1 1;\n",
    "     0 0 1;\n",
    "     0 1 0]\n",
    "\n",
    "# h = graphplot(g, names=1:3, curvature_scalar=0.1)\n",
    "# draw(PNG(\"batata.png\", 16cm, 16cm), h)\n",
    "draw(PNG(\"karate.png\", 16cm, 16cm), graphplot(g, names=1:3, curvature_scalar=0.1))"
   ]
  },
  {
   "cell_type": "code",
   "execution_count": 1,
   "metadata": {},
   "outputs": [],
   "source": [
    "\n",
    "mutable struct Cidade\n",
    "    label::String\n",
    "    pop::String\n",
    "    area::String\n",
    "    altitude::String\n",
    "end\n",
    "\n",
    "mutable struct Fronteira\n",
    "    v1::Cidade\n",
    "    v2::Cidade\n",
    "    peso::Float64\n",
    "end\n",
    "\n",
    "mutable struct Grafo\n",
    "    cidade::Array{Cidade}\n",
    "    fronteira::Array{Fronteira}\n",
    "end\n",
    "# v1 = Cidade(\"1\")\n",
    "\n",
    "# a1 = Fronteira(v1, v2, 1)\n"
   ]
  },
  {
   "cell_type": "code",
   "execution_count": 3,
   "metadata": {},
   "outputs": [
    {
     "data": {
      "text/plain": [
       "Fronteira(Cidade(\"Colombo\", \"240.840\", \"198,007\", \"1 018\"), Cidade(\"Pinhais\", \"130.789\", \"61,007\", \"895\"), 21.7)"
      ]
     },
     "execution_count": 3,
     "metadata": {},
     "output_type": "execute_result"
    }
   ],
   "source": [
    "c01 = Cidade(\"Adrianópolis\",\"5.983\",\"1.349,34\",\"164\")\n",
    "c02 = Cidade(\"Agudos do Sul\",\"9.269\",\"192,228\",\"830\")\n",
    "c03 = Cidade(\"Almirante Tamandaré\",\"117.168\",\"195,145\",\"955\")\n",
    "c04 = Cidade(\"Araucária\",\"141.410\",\"469,166\",\"894\")\n",
    "c05 = Cidade(\"Balsa Nova\",\"12.787\",\"396,914\",\"869\")\n",
    "c06 = Cidade(\"Bocaiúva do Sul\",\"12.755\",\"826,344\",\"1 000\")\n",
    "c07 = Cidade(\"Campina Grande do Sul\",\"42.880\",\"539,861\",\"893\")\n",
    "c08 = Cidade(\"Campo do Tenente\",\"7.894\",\"304,489\",\"809\")\n",
    "c09 = Cidade(\"Campo Largo\",\"130.091\",\"1.249,42\",\"969\")\n",
    "c10 = Cidade(\"Campo Magro\",\"28.885\",\"275,466\",\"939\")\n",
    "c11 = Cidade(\"Cerro Azul\",\"17.725\",\"1.341,19\",\"333\")\n",
    "c12 = Cidade(\"Colombo\",\"240.840\",\"198,007\",\"1 018\")\n",
    "c13 = Cidade(\"Contenda\",\"18.326\",\"299,037\",\"930\")\n",
    "c14 = Cidade(\"Curitiba\",\"1.917.185\",\"434,967\",\"925\")\n",
    "c15 = Cidade(\"Doutor Ulysses\",\"5.609\",\"781,447\",\"817\")\n",
    "c16 = Cidade(\"Fazenda Rio Grande\",\"98.368\",\"116,676\",\"911\")\n",
    "c17 = Cidade(\"Itaperuçu\",\"28.187\",\"312,382\",\"992\")\n",
    "c18 = Cidade(\"Lapa\",\"47.909\",\"2.045,89\",\"942\")\n",
    "c19 = Cidade(\"Mandirituba\",\"26.411\",\"379,179\",\"886\")\n",
    "c20 = Cidade(\"Piên\",\"12.606\",\"254,903\",\"807\")\n",
    "c21 = Cidade(\"Pinhais\",\"130.789\",\"61,007\",\"895\")\n",
    "c22 = Cidade(\"Piraquara\",\"111.052\",\"227,56\",\"900\")\n",
    "c23 = Cidade(\"Quatro Barras\",\"23.199\",\"179,538\",\"948\")\n",
    "c24 = Cidade(\"Quitandinha\",\"18.873\",\"447,023\",\"827\")\n",
    "c25 = Cidade(\"Rio Branco do Sul\",\"32.273\",\"814,361\",\"885\")\n",
    "c26 = Cidade(\"Rio Negro\",\"33.922\",\"603,246\",\"809\")\n",
    "c27 = Cidade(\"São José dos Pinhais\",\"317.476\",\"945,717\",\"896\")\n",
    "c28 = Cidade(\"Tijucas do Sul\",\"16.646\",\"672,197\",\"946\")\n",
    "c29 = Cidade(\"Tunas do Paraná\",\"8.509\",\"668,481\",\"886\")\n",
    "f01 = Fronteira(c26,c20,81)\n",
    "f02 = Fronteira(c26,c08,23)\n",
    "f03 = Fronteira(c26,c18,91)\n",
    "f04 = Fronteira(c18,c08,28.8)\n",
    "f05 = Fronteira(c18,c05,34)\n",
    "f06 = Fronteira(c18,c13,26.3)\n",
    "f07 = Fronteira(c18,c24,55)\n",
    "f08 = Fronteira(c08,c20,73.3)\n",
    "f09 = Fronteira(c08,c24,26.8)\n",
    "f10 = Fronteira(c20,c02,18.2)\n",
    "f11 = Fronteira(c20,c24,49.3)\n",
    "f12 = Fronteira(c02,c24,32)\n",
    "f13 = Fronteira(c02,c28,19.6)\n",
    "f14 = Fronteira(c02,c19,28)\n",
    "f15 = Fronteira(c28,c19,47.6)\n",
    "f16 = Fronteira(c28,c27,50.4)\n",
    "f17 = Fronteira(c19,c16,13.9)\n",
    "f18 = Fronteira(c19,c13,58.5)\n",
    "f19 = Fronteira(c19,c24,26.3)\n",
    "f20 = Fronteira(c19,c04,40)\n",
    "f21 = Fronteira(c19,c27,40.8)\n",
    "f22 = Fronteira(c13,c05,20)\n",
    "f23 = Fronteira(c13,c04,18.9)\n",
    "f24 = Fronteira(c05,c09,20.7)\n",
    "f25 = Fronteira(c05,c04,39.3)\n",
    "f26 = Fronteira(c04,c16,27.1)\n",
    "f27 = Fronteira(c04,c14,36.9)\n",
    "f28 = Fronteira(c04,c09,26.8)\n",
    "f29 = Fronteira(c27,c16,33)\n",
    "f30 = Fronteira(c27,c14,19.6)\n",
    "f31 = Fronteira(c27,c21,12.5)\n",
    "f32 = Fronteira(c27,c22,26.1)\n",
    "f33 = Fronteira(c16,c14,30.3)\n",
    "f34 = Fronteira(c14,c21,13.6)\n",
    "f35 = Fronteira(c14,c12,18.7)\n",
    "f36 = Fronteira(c14,c03,15.6)\n",
    "f37 = Fronteira(c14,c10,27)\n",
    "f38 = Fronteira(c14,c09,29.8)\n",
    "f39 = Fronteira(c09,c10,20.9)\n",
    "f40 = Fronteira(c09,c17,55.4)\n",
    "f41 = Fronteira(c10,c17,42.3)\n",
    "f42 = Fronteira(c10,c03,23.6)\n",
    "f43 = Fronteira(c03,c17,17.6)\n",
    "f44 = Fronteira(c03,c12,8.8)\n",
    "f45 = Fronteira(c03,c25,16)\n",
    "f46 = Fronteira(c17,c25,9.4)\n",
    "f47 = Fronteira(c25,c12,23.4)\n",
    "f48 = Fronteira(c25,c06,24)\n",
    "f49 = Fronteira(c25,c11,54.5)\n",
    "f50 = Fronteira(c11,c29,33.9)\n",
    "f51 = Fronteira(c11,c01,116.2)\n",
    "f52 = Fronteira(c11,c06,74)\n",
    "f53 = Fronteira(c11,c15,47.5)\n",
    "f54 = Fronteira(c06,c07,31)\n",
    "f55 = Fronteira(c06,c12,19.8)\n",
    "f56 = Fronteira(c06,c29,40.2)\n",
    "f57 = Fronteira(c06,c01,128.2)\n",
    "f58 = Fronteira(c07,c23,9.2)\n",
    "f59 = Fronteira(c07,c12,17.3)\n",
    "f60 = Fronteira(c21,c23,19)\n",
    "f61 = Fronteira(c13,c24,30.7)\n",
    "f62 = Fronteira(c22,c21,15.7)\n",
    "f63 = Fronteira(c22,c23,10.2)\n",
    "f64 = Fronteira(c01,c29,88)\n",
    "f65 = Fronteira(c12,c23,24.5)\n",
    "f66 = Fronteira(c12,c21,21.7)\n"
   ]
  },
  {
   "cell_type": "code",
   "execution_count": 9,
   "metadata": {},
   "outputs": [
    {
     "ename": "ErrorException",
     "evalue": "type Array has no field fronteiras",
     "output_type": "error",
     "traceback": [
      "type Array has no field fronteiras",
      "",
      "Stacktrace:",
      " [1] getproperty(::Any, ::Symbol) at ./sysimg.jl:18",
      " [2] top-level scope at In[9]:7"
     ]
    }
   ],
   "source": [
    "cidades = [c01,c02,c03,c04,c05,c06,c07,c08,c09,c10,c11,c12,c13,c14,c15,c16,c17,\n",
    "    c18,c19,c20,c21,c22,c23,c24,c25,c26,c27,c28,c29]\n",
    "fronteiras = [f01,f02,f03,f04,f05,f06,f07,f08,f09,f10,f11,f12,f13,f14,f15,f16,\n",
    "    f17,f18,f19,f20,f21,f22,f23,f24,f25,f26,f27,f28,f29,f30,f31,f32,f33,f34,f35,f36,f37,\n",
    "    f38,f39,f40,f41,f42,f43,f44,f45,f46,f47,f48,f49,f50,f51,f52,f53,f54,f55,f56,f57,f58,\n",
    "    f59,f60,f61,f62,f63,f64,f65,f66]\n",
    "\n",
    "graph = grafo(cidades. fronteiras)"
   ]
  }
 ],
 "metadata": {
  "kernelspec": {
   "display_name": "Julia 1.0.4",
   "language": "julia",
   "name": "julia-1.0"
  },
  "language_info": {
   "file_extension": ".jl",
   "mimetype": "application/julia",
   "name": "julia",
   "version": "1.0.4"
  }
 },
 "nbformat": 4,
 "nbformat_minor": 4
}
