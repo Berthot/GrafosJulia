{
 "cells": [
  {
   "cell_type": "code",
   "execution_count": 5,
   "metadata": {},
   "outputs": [],
   "source": [
    "mutable struct Vertice\n",
    "    nome::String\n",
    "end\n",
    "\n",
    "mutable struct Aresta\n",
    "    v1::Vertice\n",
    "    v2::Vertice\n",
    "    peso::Int64\n",
    "end\n",
    "\n",
    "function mostrar_aresta(self::Aresta)\n",
    "    println(self.v1)\n",
    "    println(self.v2)\n",
    "end\n",
    "\n",
    "mutable struct Grafo\n",
    "    vertices::Array{Vertice}\n",
    "    arestas::Array{Aresta}\n",
    "end"
   ]
  },
  {
   "cell_type": "code",
   "execution_count": 6,
   "metadata": {},
   "outputs": [
    {
     "data": {
      "text/plain": [
       "Grafo(Vertice[Vertice(\"1\"), Vertice(\"2\"), Vertice(\"3\"), Vertice(\"4\")], Aresta[Aresta(Vertice(\"1\"), Vertice(\"2\"), 1), Aresta(Vertice(\"2\"), Vertice(\"2\"), 1), Aresta(Vertice(\"2\"), Vertice(\"3\"), 1), Aresta(Vertice(\"1\"), Vertice(\"3\"), 1), Aresta(Vertice(\"3\"), Vertice(\"4\"), 1), Aresta(Vertice(\"4\"), Vertice(\"3\"), 1), Aresta(Vertice(\"1\"), Vertice(\"4\"), 1)])"
      ]
     },
     "execution_count": 6,
     "metadata": {},
     "output_type": "execute_result"
    }
   ],
   "source": [
    "v1 = Vertice(\"1\")\n",
    "v2 = Vertice(\"2\")\n",
    "v3 = Vertice(\"3\")\n",
    "v4 = Vertice(\"4\")\n",
    "\n",
    "\n",
    "a1 = Aresta(v1, v2, 1)\n",
    "a2 = Aresta(v2, v2, 1)\n",
    "a3 = Aresta(v2, v3, 1)\n",
    "a4 = Aresta(v1, v3, 1)\n",
    "a5 = Aresta(v3, v4, 1)\n",
    "a6 = Aresta(v4, v3, 1)\n",
    "a7 = Aresta(v1, v4, 1)\n",
    "\n",
    "arrayVertice = [v1, v2, v3, v4]\n",
    "\n",
    "arrayAresta = [a1, a2, a3, a4, a5, a6, a7]\n",
    "\n",
    "grafo = Grafo(arrayVertice, arrayAresta)"
   ]
  },
  {
   "cell_type": "code",
   "execution_count": 8,
   "metadata": {},
   "outputs": [],
   "source": [
    "[x for x in 1:10 if x % 2 == 0] # list comprehencion"
   ]
  },
  {
   "cell_type": "markdown",
   "metadata": {},
   "source": [
    "![title](img.png)"
   ]
  },
  {
   "cell_type": "code",
   "execution_count": 3,
   "metadata": {},
   "outputs": [],
   "source": [
    "# using Graphs\n",
    "\n",
    "# function lazyConstraintsCallback(cb)\n",
    "#     # Criando um grafo \n",
    "#     g = simple_graph(nCities, is_directed=false)  \n",
    "#     for i in 1:nCities, j in 1:nCities\n",
    "#     if i != j  \n",
    "#         if getvalue(x[i, j]) > 0.01  \n",
    "#             add_edge!(g, i, j) # Arestas \n",
    "#         end  \n",
    "#     end \n",
    "# end \n",
    "\n",
    "# # Encontrando os componentes conexos do grafo \n",
    "# cc = connected_components(g) "
   ]
  },
  {
   "cell_type": "code",
   "execution_count": null,
   "metadata": {},
   "outputs": [],
   "source": []
  },
  {
   "cell_type": "code",
   "execution_count": 43,
   "metadata": {},
   "outputs": [
    {
     "data": {
      "text/plain": [
       "3×2 Array{Int32,2}:\n",
       " 5  3\n",
       " 2  2\n",
       " 6  5"
      ]
     },
     "execution_count": 43,
     "metadata": {},
     "output_type": "execute_result"
    }
   ],
   "source": [
    "# A = [2 4 3; 4 -1 2]\n",
    "\n",
    "\n",
    "B = [5 3; 2 2; 6 5]\n",
    "\n",
    "# C = A * B\n",
    "\n"
   ]
  },
  {
   "cell_type": "markdown",
   "metadata": {},
   "source": [
    "![title](matrix_exemplo.png)"
   ]
  }
 ],
 "metadata": {
  "kernelspec": {
   "display_name": "Julia 1.0.4",
   "language": "julia",
   "name": "julia-1.0"
  },
  "language_info": {
   "file_extension": ".jl",
   "mimetype": "application/julia",
   "name": "julia",
   "version": "1.0.4"
  }
 },
 "nbformat": 4,
 "nbformat_minor": 4
}
