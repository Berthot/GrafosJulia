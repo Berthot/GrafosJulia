{
 "cells": [
  {
   "cell_type": "markdown",
   "metadata": {},
   "source": [
    "#  Resolução de Problemas Computacionais com Grafos"
   ]
  },
  {
   "cell_type": "markdown",
   "metadata": {},
   "source": [
    "## Aula 1"
   ]
  },
  {
   "cell_type": "markdown",
   "metadata": {},
   "source": [
    "1. Apresentação da disciplina\n",
    "  - Ideia da disciplina\n",
    "  - Linguagens: Python, Java\n",
    "1. Apresentação do Plano de Ensino\n",
    "1. Conceito de Grafo: ideia, exemplos\n",
    "    - Representação de grafos por matrizes de adjacências"
   ]
  },
  {
   "cell_type": "markdown",
   "metadata": {},
   "source": [
    "### Avaliação Formativa 1"
   ]
  },
  {
   "cell_type": "markdown",
   "metadata": {},
   "source": [
    "Escrever uma função que receba como entrada uma matriz de adjacências e que retorne a quantidade de vértices e a quantidade de arestas.\n",
    "\n",
    "Entregar um arquivo `.py` ou `.ipynb`; no arquivo entregue, colocar o nome dos integrantes da dupla de alunos.\n",
    "\n",
    "`vertices_arestas(m: matriz): (num_vertices: Int, num_arestas: Int)`"
   ]
  },
  {
   "cell_type": "code",
   "execution_count": 36,
   "metadata": {},
   "outputs": [],
   "source": [
    "# Exemplo de matriz de adjacências\n",
    "m1 = [[1, 0, 0], [0, 1, 1], [0, 1, 0]]"
   ]
  },
  {
   "cell_type": "markdown",
   "metadata": {},
   "source": [
    "## Aula 2"
   ]
  },
  {
   "cell_type": "markdown",
   "metadata": {},
   "source": [
    "### Resolução do exercío 1"
   ]
  },
  {
   "cell_type": "markdown",
   "metadata": {},
   "source": [
    "#### Pedro Miczewski"
   ]
  },
  {
   "cell_type": "code",
   "execution_count": 37,
   "metadata": {},
   "outputs": [],
   "source": [
    "m1 = [[0,0,1],[1,0,0],[0,0,0]]\n",
    "\n",
    "def calcMatriz(m):\n",
    "  vertices = 0\n",
    "  arestas = 0\n",
    "  for i in m:\n",
    "    arestas +=1\n",
    "    for j in i:\n",
    "      vertices += 1 if j == 1 else 0\n",
    "  # print('Arestas: {} | Vertices: {}'.format(arestas,vertices))\n",
    "  return (vertices, arestas)"
   ]
  },
  {
   "cell_type": "code",
   "execution_count": 38,
   "metadata": {},
   "outputs": [
    {
     "data": {
      "text/plain": [
       "(2, 3)"
      ]
     },
     "execution_count": 38,
     "metadata": {},
     "output_type": "execute_result"
    }
   ],
   "source": [
    "calcMatriz(m1)"
   ]
  },
  {
   "cell_type": "markdown",
   "metadata": {},
   "source": [
    "#### Gabriel Przytocki"
   ]
  },
  {
   "cell_type": "code",
   "execution_count": 39,
   "metadata": {},
   "outputs": [],
   "source": [
    "def matriz_adjacencia(matriz):\n",
    "    return [sum([sum(i) for i in matriz])], len(matriz)"
   ]
  },
  {
   "cell_type": "code",
   "execution_count": 40,
   "metadata": {},
   "outputs": [
    {
     "data": {
      "text/plain": [
       "([2], 3)"
      ]
     },
     "execution_count": 40,
     "metadata": {},
     "output_type": "execute_result"
    }
   ],
   "source": [
    "matriz_adjacencia(m1)"
   ]
  },
  {
   "cell_type": "code",
   "execution_count": 41,
   "metadata": {},
   "outputs": [],
   "source": [
    "def matriz_adjacencia1(matriz):\n",
    "    return (len(matriz), sum([sum(i) for i in matriz]))"
   ]
  },
  {
   "cell_type": "code",
   "execution_count": 42,
   "metadata": {},
   "outputs": [
    {
     "data": {
      "text/plain": [
       "(3, 2)"
      ]
     },
     "execution_count": 42,
     "metadata": {},
     "output_type": "execute_result"
    }
   ],
   "source": [
    "matriz_adjacencia1(m1)"
   ]
  },
  {
   "cell_type": "markdown",
   "metadata": {},
   "source": [
    "#### Leonardo Rohden"
   ]
  },
  {
   "cell_type": "code",
   "execution_count": 43,
   "metadata": {},
   "outputs": [],
   "source": [
    "def NArestas(matriz):\n",
    "    vertice = 0\n",
    "    for coluna in matriz:\n",
    "        for linha in coluna:\n",
    "            if linha == 1:\n",
    "                vertice += 1\n",
    "    aresta = vertice*(vertice - 1)/2\n",
    "    return (vertice, aresta)"
   ]
  },
  {
   "cell_type": "code",
   "execution_count": 44,
   "metadata": {},
   "outputs": [
    {
     "data": {
      "text/plain": [
       "(2, 1.0)"
      ]
     },
     "execution_count": 44,
     "metadata": {},
     "output_type": "execute_result"
    }
   ],
   "source": [
    "NArestas(m1)"
   ]
  },
  {
   "cell_type": "markdown",
   "metadata": {},
   "source": [
    "#### Amanda"
   ]
  },
  {
   "cell_type": "code",
   "execution_count": 45,
   "metadata": {},
   "outputs": [],
   "source": [
    "from functools import reduce \n",
    "\n",
    "m2 = [[0,1,0,0,0,0],[0,0,0,0,1,0],[0,0,0,1,0,0],[0,0,0,0,1,0],[0,0,0,0,0,0],[0,0,0,0,1,0]] \n",
    "\n",
    "def arestas(m): \n",
    "    if len(m) == 1:\n",
    "        return m[0]\n",
    "    else:\n",
    "        return m[0] + arestas(m[1:])\n",
    "\n",
    "def vertices_arestas(m):\n",
    "    return ([len(m) , reduce((lambda x, y: x + y), arestas(m)) ])"
   ]
  },
  {
   "cell_type": "code",
   "execution_count": 46,
   "metadata": {},
   "outputs": [
    {
     "data": {
      "text/plain": [
       "[6, 5]"
      ]
     },
     "execution_count": 46,
     "metadata": {},
     "output_type": "execute_result"
    }
   ],
   "source": [
    "vertices_arestas(m2)"
   ]
  },
  {
   "cell_type": "markdown",
   "metadata": {},
   "source": [
    "#### Allan"
   ]
  },
  {
   "cell_type": "code",
   "execution_count": 47,
   "metadata": {},
   "outputs": [],
   "source": [
    "matriz1 = [[0, 1, 0, 0, 0, 0], [0, 0, 0, 0, 0, 0], [0, 0, 0, 0, 0, 1], [0, 0, 0, 0, 1, 0], [0, 0, 0, 0, 0, 0], [0, 0, 0, 0, 1, 0]]\n",
    " \n",
    "def calc_vertice(matriz):\n",
    "    return len(matriz[0])\n",
    " \n",
    "def calc_aresta(matriz):\n",
    "    if matriz == []:\n",
    "        return 0 \n",
    "    return sum(matriz[0]) + calc_aresta(matriz[1:])\n",
    " \n",
    "def vertices_arestas(matriz):\n",
    "    return (calc_vertice(matriz), calc_aresta(matriz))"
   ]
  },
  {
   "cell_type": "code",
   "execution_count": 48,
   "metadata": {},
   "outputs": [
    {
     "data": {
      "text/plain": [
       "(6, 4)"
      ]
     },
     "execution_count": 48,
     "metadata": {},
     "output_type": "execute_result"
    }
   ],
   "source": [
    "vertices_arestas(matriz1)"
   ]
  },
  {
   "cell_type": "markdown",
   "metadata": {},
   "source": [
    "## Aula 3"
   ]
  },
  {
   "cell_type": "markdown",
   "metadata": {},
   "source": [
    "### Conceito de Grafo"
   ]
  },
  {
   "cell_type": "markdown",
   "metadata": {},
   "source": [
    "$G = \\langle V, A \\rangle $"
   ]
  },
  {
   "cell_type": "markdown",
   "metadata": {},
   "source": [
    "### Representação"
   ]
  },
  {
   "cell_type": "markdown",
   "metadata": {},
   "source": [
    "  - Diagrama\n",
    "  - Matrizes: adjacências\n",
    "  - Conjunto de pares ordenados\n",
    "  - Classes de objetos"
   ]
  },
  {
   "cell_type": "markdown",
   "metadata": {},
   "source": [
    "### Grafos representados por classes de objetos"
   ]
  },
  {
   "cell_type": "markdown",
   "metadata": {},
   "source": [
    "Grafos podem ser representados computacionalmente por objetos da classe `Grafo`:\n",
    "\n",
    "`Classe Grafo`\n",
    "\n",
    "  $\\quad$ `vertices`: [Vertice]\n",
    "  \n",
    "  $\\quad$ `arestas`: [Aresta]"
   ]
  },
  {
   "cell_type": "code",
   "execution_count": 49,
   "metadata": {},
   "outputs": [],
   "source": [
    "# Código inválido\n",
    "class Aresta:\n",
    "    v1\n",
    "    v2\n",
    "    def origem():\n",
    "        return v1"
   ]
  },
  {
   "cell_type": "code",
   "execution_count": 50,
   "metadata": {},
   "outputs": [],
   "source": [
    "class Aresta:\n",
    "    def __init__(self, v1, v2, peso = 1):\n",
    "        self.v1 = v1\n",
    "        self.v2 = v2\n",
    "        self.peso = peso\n",
    "    def origem(self):\n",
    "        return self.v1\n",
    "    def mpeso(self):\n",
    "        return self.peso\n",
    "\n",
    "# class Vertice:\n",
    "\n",
    "# class Grafo:\n"
   ]
  },
  {
   "cell_type": "code",
   "execution_count": 51,
   "metadata": {},
   "outputs": [],
   "source": [
    "a1 = Aresta(\"XXX\", \"YYY\", 17)"
   ]
  },
  {
   "cell_type": "code",
   "execution_count": 52,
   "metadata": {},
   "outputs": [
    {
     "data": {
      "text/plain": [
       "17"
      ]
     },
     "execution_count": 52,
     "metadata": {},
     "output_type": "execute_result"
    }
   ],
   "source": [
    "# Acesso inadequado: uso direto de atributos do objeto\n",
    "a1.mpeso()"
   ]
  },
  {
   "cell_type": "code",
   "execution_count": 53,
   "metadata": {},
   "outputs": [
    {
     "data": {
      "text/plain": [
       "'XXX'"
      ]
     },
     "execution_count": 53,
     "metadata": {},
     "output_type": "execute_result"
    }
   ],
   "source": [
    "# Acesso adequado: uso de funções\n",
    "a1.origem()"
   ]
  },
  {
   "cell_type": "markdown",
   "metadata": {},
   "source": [
    "### Exercício"
   ]
  },
  {
   "cell_type": "markdown",
   "metadata": {},
   "source": [
    "1. Representar o grafo direcionado da figura 5.26, [JG] p 232."
   ]
  },
  {
   "cell_type": "markdown",
   "metadata": {},
   "source": [
    "## Aula 4"
   ]
  },
  {
   "cell_type": "markdown",
   "metadata": {},
   "source": [
    "### 1. Correção do exercício da aula anterior"
   ]
  },
  {
   "cell_type": "markdown",
   "metadata": {},
   "source": [
    "#### Rodrigo Lopes"
   ]
  },
  {
   "cell_type": "code",
   "execution_count": 54,
   "metadata": {},
   "outputs": [],
   "source": [
    "class Vertice:\n",
    "    def __init__(self, label):\n",
    "        self._label = label\n",
    "        \n",
    "    def label(self):\n",
    "        return self._label\n",
    "    \n",
    "    def __str__(self):\n",
    "        return self._label\n",
    "    \n",
    "class Aresta:\n",
    "    \n",
    "    def __init__(self, v1, v2, peso = 0):\n",
    "        self._v1 = v1\n",
    "        self._v2 = v2\n",
    "        self._peso = peso\n",
    "        \n",
    "    def origem(self):\n",
    "        return self._v1\n",
    "    \n",
    "    def destino(self):\n",
    "        return self._v2\n",
    "    \n",
    "    def peso(self):\n",
    "        return self._peso\n",
    "        \n",
    "    def __str__(self):\n",
    "        return self._v1.label() +' -> '+ self._v2.label()\n",
    "    \n",
    "class Grafo:\n",
    "    \n",
    "    def __init__(self):\n",
    "        self._vertices = []\n",
    "        self._arestas = []\n",
    "        \n",
    "    def __init__(self, vertices, arestas):\n",
    "        self._vertices = vertices\n",
    "        self._arestas = arestas\n",
    "    \n",
    "    def add_vertice(self, v):\n",
    "        self._vertices.append(v)\n",
    "        \n",
    "    def add_aresta(self, a):\n",
    "        self._arestas.append(a)\n",
    "    \n",
    "    def arestas(self):\n",
    "        return self._arestas\n",
    "    \n",
    "    def vertices(self):\n",
    "        return self._vertices"
   ]
  },
  {
   "cell_type": "code",
   "execution_count": 55,
   "metadata": {},
   "outputs": [
    {
     "name": "stdout",
     "output_type": "stream",
     "text": [
      "-----------------Grafo--------------\n",
      "\n",
      "Vertices\n",
      "1\n",
      "2\n",
      "3\n",
      "4\n",
      "\n",
      "Arestas\n",
      "1 -> 2\n",
      "2 -> 2\n",
      "2 -> 3\n",
      "1 -> 3\n",
      "3 -> 4\n",
      "4 -> 3\n",
      "1 -> 4\n"
     ]
    }
   ],
   "source": [
    "# Instanciando os vértices\n",
    "vertices = [Vertice(\"1\"), Vertice(\"2\"), Vertice(\"3\"), Vertice(\"4\")]\n",
    "v1 = vertices[0]\n",
    "v2 = vertices[1]\n",
    "v3 = vertices[2]\n",
    "v4 = vertices[3]\n",
    "\n",
    "# Instanciando as arestas com peso default\n",
    "arestas = [Aresta(v1, v2),\n",
    "           Aresta(v2, v2),\n",
    "           Aresta(v2, v3),\n",
    "           Aresta(v1, v3),\n",
    "           Aresta(v3, v4),\n",
    "           Aresta(v4, v3),\n",
    "           Aresta(v1, v4)]\n",
    "\n",
    "# Instanciando o grafo\n",
    "grafo = Grafo(vertices, arestas)\n",
    "\n",
    "# Imprimindo os vértices e arestas\n",
    "print(\"-----------------Grafo--------------\")\n",
    "print(\"\\nVertices\")\n",
    "for v in grafo.vertices():\n",
    "    print(v) \n",
    "\n",
    "print(\"\\nArestas\")\n",
    "for a in grafo.arestas():\n",
    "    print(a)"
   ]
  },
  {
   "cell_type": "markdown",
   "metadata": {},
   "source": [
    "#### Gabriel Henrique"
   ]
  },
  {
   "cell_type": "code",
   "execution_count": 56,
   "metadata": {},
   "outputs": [],
   "source": [
    "class Vertice:\n",
    "    def __init__(self, vert):\n",
    "        self.vertice = vert\n",
    "    \n",
    "    def getVertice(self):\n",
    "        return self.vertice\n",
    "\n",
    "class Aresta:\n",
    "    def __init__(self, vert_1, vert_2, peso=1):\n",
    "        self.vert_1 = vert_1\n",
    "        self.vert_2 = vert_2\n",
    "        self.peso = peso\n",
    "        \n",
    "    def origem(self):\n",
    "        return self.vert_1\n",
    "    \n",
    "    def extremidade(self):\n",
    "        return self.vert_2\n",
    "    \n",
    "    def par(self):\n",
    "        return (self.vert_1, self.vert_2)\n",
    "    \n",
    "    def peso(self):\n",
    "        return self.peso\n",
    "    \n",
    "class Grafo:\n",
    "    def __init__(self, arestas):\n",
    "        self.arestas = arestas\n",
    "        \n",
    "    def arestas_grafo(self):\n",
    "        return self.arestas\n",
    "    \n",
    "# Retorna as arestas na forma de tuplas dentro de uma lista   \n",
    "vertices_arestas = lambda g: [i.par() for i in grafo_atividade.arestas_grafo()]\n",
    "\n",
    "# Calcula vértices e arestas de um grafo\n",
    "vertices_arestas_funcional = lambda g, lista: ([[[lista.append(i) for i in k if i not in lista] for k in g], len(lista)][-1], len(vertices_arestas(g)))"
   ]
  },
  {
   "cell_type": "code",
   "execution_count": 57,
   "metadata": {},
   "outputs": [],
   "source": [
    "# ------------------------------- INSTANCIANDO\n",
    "# Vértices\n",
    "# Observação: usar a classe vértice para instanciar o grafo.\n",
    "v_1 = \"0\"\n",
    "v_2 = \"1\"\n",
    "v_3 = \"2\"\n",
    "v_4 = \"3\"\n",
    "\n",
    "# Arestas\n",
    "a_1 = Aresta(v_1, v_2)\n",
    "a_2 = Aresta(v_2, v_2)\n",
    "a_3 = Aresta(v_2, v_3)\n",
    "a_4 = Aresta(v_1, v_3)\n",
    "a_5 = Aresta(v_3, v_4)\n",
    "a_6 = Aresta(v_4, v_3)\n",
    "a_7 = Aresta(v_1, v_4)\n",
    "\n",
    "# Lista contendo as arestas\n",
    "arestas_grafo = [a_1, a_2, a_3, a_4, a_5, a_6, a_7]\n",
    "\n",
    "# Grafo\n",
    "grafo_atividade = Grafo(arestas_grafo)\n",
    "\n",
    "# ------------------------------- FIM DA CRIAÇÂO DOS OBJETOS"
   ]
  },
  {
   "cell_type": "code",
   "execution_count": 58,
   "metadata": {},
   "outputs": [
    {
     "name": "stdout",
     "output_type": "stream",
     "text": [
      "GRAFO\n",
      "[('0', '1'), ('1', '1'), ('1', '2'), ('0', '2'), ('2', '3'), ('3', '2'), ('0', '3')]\n",
      "\n",
      "\n",
      "VÉRTICES E ARESTAS\n",
      "(4, 7)\n"
     ]
    }
   ],
   "source": [
    "# Chamando as arestas do grafo\n",
    "print(\"GRAFO\")\n",
    "print(vertices_arestas(grafo_atividade))\n",
    "print(\"\\n\")\n",
    "\n",
    "print('VÉRTICES E ARESTAS')\n",
    "# Chamando os vértices e arestas do grafo: Resultado = 4 arestas e 7 vértices\n",
    "print(vertices_arestas_funcional(vertices_arestas(grafo_atividade), []))"
   ]
  },
  {
   "cell_type": "markdown",
   "metadata": {},
   "source": [
    "### 2. Avaliação Formativa 2"
   ]
  },
  {
   "cell_type": "markdown",
   "metadata": {},
   "source": [
    "A avaliação pode ser desenvolvida em equipes de até duas pessoas e entregue na pasta correspondente do *Blackboard*. Somente serão aceitas soluções postadas em arquivos de formato `.ipynb`. As soluções entregues deverão registrar os nomes do autores do trabalho. \n",
    "\n",
    "Prazo para entrega: 26 de agosto de 2020, 18h00."
   ]
  },
  {
   "cell_type": "markdown",
   "metadata": {},
   "source": [
    "#### Enunciado"
   ]
  },
  {
   "cell_type": "markdown",
   "metadata": {},
   "source": [
    "Representar os municípios da *RMC - Região Metropolitana de Curitiba* sob o formato de um *grafo representado segundo o Paradigma da Orientação a Objetos*. Considerar que, caso dois municípios possuam uma divisa comum, existe uma aresta correspondente no grafo.\n",
    "\n",
    "Registrar no grafo os seguintes dados:\n",
    "\n",
    "1. Para cada município\n",
    "    - Nome\n",
    "    - População\n",
    "    - Superfície\n",
    "    - Altitude média\n",
    "1. Para os municípios limítrofes\n",
    "    - Distância entre as sedes."
   ]
  },
  {
   "cell_type": "code",
   "execution_count": 6,
   "metadata": {},
   "outputs": [
    {
     "ename": "NameError",
     "evalue": "name 'multM' is not defined",
     "output_type": "error",
     "traceback": [
      "\u001b[0;31m---------------------------------------------------------------------------\u001b[0m",
      "\u001b[0;31mNameError\u001b[0m                                 Traceback (most recent call last)",
      "\u001b[0;32m<ipython-input-6-edd7da4bb68e>\u001b[0m in \u001b[0;36m<module>\u001b[0;34m\u001b[0m\n\u001b[1;32m      6\u001b[0m     \u001b[0;32mreturn\u001b[0m \u001b[0;34m(\u001b[0m\u001b[0;34m[\u001b[0m\u001b[0mnotas\u001b[0m\u001b[0;34m.\u001b[0m\u001b[0mappend\u001b[0m\u001b[0;34m(\u001b[0m\u001b[0mlist\u001b[0m\u001b[0;34m(\u001b[0m\u001b[0mmultM\u001b[0m\u001b[0;34m(\u001b[0m\u001b[0mi\u001b[0m\u001b[0;34m,\u001b[0m\u001b[0mpesos\u001b[0m\u001b[0;34m)\u001b[0m\u001b[0;34m)\u001b[0m\u001b[0;34m)\u001b[0m \u001b[0;32mfor\u001b[0m \u001b[0mi\u001b[0m \u001b[0;32min\u001b[0m \u001b[0mturma\u001b[0m\u001b[0;34m]\u001b[0m\u001b[0;34m,\u001b[0m \u001b[0mnotas\u001b[0m\u001b[0;34m)\u001b[0m\u001b[0;34m[\u001b[0m\u001b[0;36m1\u001b[0m\u001b[0;34m]\u001b[0m\u001b[0;34m\u001b[0m\u001b[0;34m\u001b[0m\u001b[0m\n\u001b[1;32m      7\u001b[0m \u001b[0;34m\u001b[0m\u001b[0m\n\u001b[0;32m----> 8\u001b[0;31m \u001b[0mcalcularNota\u001b[0m\u001b[0;34m(\u001b[0m\u001b[0mturma\u001b[0m\u001b[0;34m,\u001b[0m\u001b[0mpesos\u001b[0m\u001b[0;34m)\u001b[0m\u001b[0;34m\u001b[0m\u001b[0;34m\u001b[0m\u001b[0m\n\u001b[0m",
      "\u001b[0;32m<ipython-input-6-edd7da4bb68e>\u001b[0m in \u001b[0;36mcalcularNota\u001b[0;34m(turma, pesos, notas)\u001b[0m\n\u001b[1;32m      4\u001b[0m \u001b[0;34m\u001b[0m\u001b[0m\n\u001b[1;32m      5\u001b[0m \u001b[0;32mdef\u001b[0m \u001b[0mcalcularNota\u001b[0m\u001b[0;34m(\u001b[0m\u001b[0mturma\u001b[0m\u001b[0;34m,\u001b[0m \u001b[0mpesos\u001b[0m\u001b[0;34m,\u001b[0m \u001b[0mnotas\u001b[0m\u001b[0;34m=\u001b[0m\u001b[0;34m[\u001b[0m\u001b[0;34m]\u001b[0m\u001b[0;34m)\u001b[0m\u001b[0;34m:\u001b[0m\u001b[0;34m\u001b[0m\u001b[0;34m\u001b[0m\u001b[0m\n\u001b[0;32m----> 6\u001b[0;31m     \u001b[0;32mreturn\u001b[0m \u001b[0;34m(\u001b[0m\u001b[0;34m[\u001b[0m\u001b[0mnotas\u001b[0m\u001b[0;34m.\u001b[0m\u001b[0mappend\u001b[0m\u001b[0;34m(\u001b[0m\u001b[0mlist\u001b[0m\u001b[0;34m(\u001b[0m\u001b[0mmultM\u001b[0m\u001b[0;34m(\u001b[0m\u001b[0mi\u001b[0m\u001b[0;34m,\u001b[0m\u001b[0mpesos\u001b[0m\u001b[0;34m)\u001b[0m\u001b[0;34m)\u001b[0m\u001b[0;34m)\u001b[0m \u001b[0;32mfor\u001b[0m \u001b[0mi\u001b[0m \u001b[0;32min\u001b[0m \u001b[0mturma\u001b[0m\u001b[0;34m]\u001b[0m\u001b[0;34m,\u001b[0m \u001b[0mnotas\u001b[0m\u001b[0;34m)\u001b[0m\u001b[0;34m[\u001b[0m\u001b[0;36m1\u001b[0m\u001b[0;34m]\u001b[0m\u001b[0;34m\u001b[0m\u001b[0;34m\u001b[0m\u001b[0m\n\u001b[0m\u001b[1;32m      7\u001b[0m \u001b[0;34m\u001b[0m\u001b[0m\n\u001b[1;32m      8\u001b[0m \u001b[0mcalcularNota\u001b[0m\u001b[0;34m(\u001b[0m\u001b[0mturma\u001b[0m\u001b[0;34m,\u001b[0m\u001b[0mpesos\u001b[0m\u001b[0;34m)\u001b[0m\u001b[0;34m\u001b[0m\u001b[0;34m\u001b[0m\u001b[0m\n",
      "\u001b[0;32m<ipython-input-6-edd7da4bb68e>\u001b[0m in \u001b[0;36m<listcomp>\u001b[0;34m(.0)\u001b[0m\n\u001b[1;32m      4\u001b[0m \u001b[0;34m\u001b[0m\u001b[0m\n\u001b[1;32m      5\u001b[0m \u001b[0;32mdef\u001b[0m \u001b[0mcalcularNota\u001b[0m\u001b[0;34m(\u001b[0m\u001b[0mturma\u001b[0m\u001b[0;34m,\u001b[0m \u001b[0mpesos\u001b[0m\u001b[0;34m,\u001b[0m \u001b[0mnotas\u001b[0m\u001b[0;34m=\u001b[0m\u001b[0;34m[\u001b[0m\u001b[0;34m]\u001b[0m\u001b[0;34m)\u001b[0m\u001b[0;34m:\u001b[0m\u001b[0;34m\u001b[0m\u001b[0;34m\u001b[0m\u001b[0m\n\u001b[0;32m----> 6\u001b[0;31m     \u001b[0;32mreturn\u001b[0m \u001b[0;34m(\u001b[0m\u001b[0;34m[\u001b[0m\u001b[0mnotas\u001b[0m\u001b[0;34m.\u001b[0m\u001b[0mappend\u001b[0m\u001b[0;34m(\u001b[0m\u001b[0mlist\u001b[0m\u001b[0;34m(\u001b[0m\u001b[0mmultM\u001b[0m\u001b[0;34m(\u001b[0m\u001b[0mi\u001b[0m\u001b[0;34m,\u001b[0m\u001b[0mpesos\u001b[0m\u001b[0;34m)\u001b[0m\u001b[0;34m)\u001b[0m\u001b[0;34m)\u001b[0m \u001b[0;32mfor\u001b[0m \u001b[0mi\u001b[0m \u001b[0;32min\u001b[0m \u001b[0mturma\u001b[0m\u001b[0;34m]\u001b[0m\u001b[0;34m,\u001b[0m \u001b[0mnotas\u001b[0m\u001b[0;34m)\u001b[0m\u001b[0;34m[\u001b[0m\u001b[0;36m1\u001b[0m\u001b[0;34m]\u001b[0m\u001b[0;34m\u001b[0m\u001b[0;34m\u001b[0m\u001b[0m\n\u001b[0m\u001b[1;32m      7\u001b[0m \u001b[0;34m\u001b[0m\u001b[0m\n\u001b[1;32m      8\u001b[0m \u001b[0mcalcularNota\u001b[0m\u001b[0;34m(\u001b[0m\u001b[0mturma\u001b[0m\u001b[0;34m,\u001b[0m\u001b[0mpesos\u001b[0m\u001b[0;34m)\u001b[0m\u001b[0;34m\u001b[0m\u001b[0;34m\u001b[0m\u001b[0m\n",
      "\u001b[0;31mNameError\u001b[0m: name 'multM' is not defined"
     ]
    }
   ],
   "source": [
    "\n",
    "\n",
    "turma = [[8, 5, 9, 7], [10, 1, 4, 7], [6, 2, 3, 4], [10, 10, 10, 10], [9, 8, 3, 7]]\n",
    "\n",
    "pesos = [[0.2], [0.4], [0.3], [0.1]]\n",
    "\n",
    "def calcularNota(turma, pesos, notas=[]):\n",
    "    return ([notas.append(list(multM(i,pesos))) for i in turma], notas)[1]\n",
    "\n",
    "calcularNota(turma,pesos)"
   ]
  },
  {
   "cell_type": "code",
   "execution_count": 3,
   "metadata": {},
   "outputs": [],
   "source": [
    "pesos = [[0.2], [0.4], [0.3], [0.1]]"
   ]
  },
  {
   "cell_type": "code",
   "execution_count": null,
   "metadata": {},
   "outputs": [],
   "source": []
  }
 ],
 "metadata": {
  "kernelspec": {
   "display_name": "Python 3",
   "language": "python",
   "name": "python3"
  },
  "language_info": {
   "codemirror_mode": {
    "name": "ipython",
    "version": 3
   },
   "file_extension": ".py",
   "mimetype": "text/x-python",
   "name": "python",
   "nbconvert_exporter": "python",
   "pygments_lexer": "ipython3",
   "version": "3.8.2"
  }
 },
 "nbformat": 4,
 "nbformat_minor": 4
}
